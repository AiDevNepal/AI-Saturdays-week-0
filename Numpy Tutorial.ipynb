{
 "cells": [
  {
   "cell_type": "markdown",
   "metadata": {},
   "source": [
    "# Numpy Tutorial\n",
    "Numpy is the core library for scientific computing in Python. It provides a high-performance multidimensional array object, and tools for working with these arrays.  \n",
    "\n",
    "This is a tutorial for the basics of numpy. Numpy is basically a very powerful and fast module for processing computations involving very large and multidimensional arrays. It will help you kick start your calculations in numpy and be able to execute them with ease. However, this is not an exhaustive course and learners are required to study further and experiment with Numpy **themselves** to get a deeper understanding of the module.\n",
    "\n",
    "To install Numpy module using pip in Ubuntu, we can use this command on the terminal:<br/>\n",
    "*sudo pip install numpy*"
   ]
  },
  {
   "cell_type": "code",
   "execution_count": 25,
   "metadata": {},
   "outputs": [
    {
     "name": "stdout",
     "output_type": "stream",
     "text": [
      "Using python path  /home/lt-134/.conda/envs/ds1/bin/python\n"
     ]
    }
   ],
   "source": [
    "import numpy as np\n",
    "import sys\n",
    "from IPython.display import display\n",
    "\n",
    "print(\"Using python path \", sys.executable)"
   ]
  },
  {
   "cell_type": "markdown",
   "metadata": {},
   "source": [
    "## Creating a 1-D array Numpy Array\n",
    "We can simply pass a list parameter to the np.array() function and it will return a corresponding numpy array. Additionally, we can use Python's built-in **type** funtion to verify this."
   ]
  },
  {
   "cell_type": "code",
   "execution_count": 66,
   "metadata": {
    "scrolled": true
   },
   "outputs": [
    {
     "name": "stdout",
     "output_type": "stream",
     "text": [
      "[ 15  20  45 -37  13]\n",
      "The variable a is of type:  <class 'numpy.ndarray'>\n"
     ]
    }
   ],
   "source": [
    "a = np.array([15, 20, 45, -37, 13])\n",
    "print(a)\n",
    "print(\"The variable a is of type: \", type(a))"
   ]
  },
  {
   "cell_type": "markdown",
   "metadata": {},
   "source": [
    "## Shape of 1-D Numpy Array\n",
    "The shape of a 1-D numpy array can be obtained by using the python's **len** funtion. However, we can also use shape funtion; this returns a somewhat different output. We will get back to that later."
   ]
  },
  {
   "cell_type": "code",
   "execution_count": 67,
   "metadata": {},
   "outputs": [
    {
     "name": "stdout",
     "output_type": "stream",
     "text": [
      "5\n",
      "(5,)\n"
     ]
    }
   ],
   "source": [
    "print(len(a))\n",
    "print(a.shape)"
   ]
  },
  {
   "cell_type": "markdown",
   "metadata": {},
   "source": [
    "## Slicing : Selecting Elements of 1-D Numpy Array\n",
    "The index of numpy array starts with 0 up to the length of the array-1. We can select an element of a numpy array using the variable name with **square [ ]** brackets."
   ]
  },
  {
   "cell_type": "code",
   "execution_count": 69,
   "metadata": {},
   "outputs": [
    {
     "name": "stdout",
     "output_type": "stream",
     "text": [
      "The 1st element of the array is:  15\n",
      "The 2nd element of the array is:  20\n",
      "The last element of the array is: 13\n"
     ]
    }
   ],
   "source": [
    "print(\"The 1st element of the array is: \", a[0])\n",
    "print(\"The 2nd element of the array is: \", a[1])\n",
    "print(\"The last element of the array is:\", a[len(a)-1])"
   ]
  },
  {
   "cell_type": "markdown",
   "metadata": {},
   "source": [
    "Now, I am curious. What if we input a negative number in the indexing?? Well, it just works.<br/>\n",
    "The output will be similar to taking the **last** element when **-1** is input, **second last** element when **-2** is input ... nth last element when -n is input. "
   ]
  },
  {
   "cell_type": "code",
   "execution_count": 93,
   "metadata": {},
   "outputs": [
    {
     "name": "stdout",
     "output_type": "stream",
     "text": [
      "The last element of the array is: 13\n",
      "The last element of the array is: -37\n"
     ]
    }
   ],
   "source": [
    "print(\"The last element of the array is:\", a[-1])\n",
    "print(\"The last element of the array is:\", a[-2])"
   ]
  },
  {
   "cell_type": "markdown",
   "metadata": {},
   "source": [
    "But what about selecting multiple elements from the 1-D Array at a time? Well, we can do that as well using the **colon :** symbol. We just have to provide the index from where we want to **start** to the index where we want to **end+1**. This is similar to the Python's built-in function **range** where, similar to the last index, the last number is neglected in the output.\n",
    "\n",
    "Whatever way we choose to input the index, the output will remain of type **numpy array** even if there is only 1 element in it."
   ]
  },
  {
   "cell_type": "code",
   "execution_count": 79,
   "metadata": {},
   "outputs": [
    {
     "name": "stdout",
     "output_type": "stream",
     "text": [
      "[15 20 45]\n",
      "The output is of type <class 'numpy.ndarray'>\n",
      "[45]\n",
      "The output is of type <class 'numpy.ndarray'>\n"
     ]
    }
   ],
   "source": [
    "print(a[0:3])\n",
    "print(\"The output is of type\", type(a[0:3]))\n",
    "print(a[2:3])\n",
    "print(\"The output is of type\", type(a[2:3]))"
   ]
  },
  {
   "cell_type": "markdown",
   "metadata": {},
   "source": [
    "But we are **LAZY!!!**. Why can't we just provide **1 input** index with the colon operator to output something? Well, in Numpy, we can. (Makes us believe that the writers of this module were as lazy as us.... to some extent.) The output will be:\n",
    "* All elements **after the specified index** if we choose **[n:]**\n",
    "* All elements **before the specified index** if we choose **[:n]**.\n",
    "* All elements **after the nth last specified index** if we choose **[-n:]**\n",
    "* All elements **before the nth last specified index** if we choose **[:-n]**\n",
    "\n",
    "So, let's try this lazy method."
   ]
  },
  {
   "cell_type": "code",
   "execution_count": 111,
   "metadata": {},
   "outputs": [
    {
     "name": "stdout",
     "output_type": "stream",
     "text": [
      "Input only after colon:\n",
      "[]\n",
      "[15 20]\n",
      "[ 15  20  45 -37  13]\n",
      "\n",
      "Input only before the colon:\n",
      "[ 15  20  45 -37  13]\n",
      "[ 20  45 -37  13]\n",
      "[ 45 -37  13]\n",
      "\n",
      "Negative Input only after the colon:\n",
      "[ 15  20  45 -37]\n",
      "[15 20]\n",
      "\n",
      "Negative Input only before the colon:\n",
      "[ 45 -37  13]\n",
      "[ 15  20  45 -37  13]\n"
     ]
    }
   ],
   "source": [
    "print(\"Input only after colon:\")\n",
    "print(a[:0])\n",
    "print(a[:2])\n",
    "print(a[:5])\n",
    "print()\n",
    "print(\"Input only before the colon:\")\n",
    "print(a[0:])\n",
    "print(a[1:])\n",
    "print(a[2:])\n",
    "print()\n",
    "print(\"Negative Input only after the colon:\")\n",
    "print(a[:-1])\n",
    "print(a[:-3])\n",
    "print()\n",
    "print(\"Negative Input only before the colon:\")\n",
    "print(a[-3:])\n",
    "print(a[-5:])"
   ]
  },
  {
   "cell_type": "markdown",
   "metadata": {},
   "source": [
    "Now, I am curious again. What if we input a negative number in above expressions or if we use a value longer than the length of the array?? <br/>\n",
    "Well, it turns out"
   ]
  },
  {
   "cell_type": "code",
   "execution_count": 95,
   "metadata": {},
   "outputs": [
    {
     "data": {
      "text/plain": [
       "array([-37,  13])"
      ]
     },
     "execution_count": 95,
     "metadata": {},
     "output_type": "execute_result"
    }
   ],
   "source": [
    "a[-2:]"
   ]
  },
  {
   "cell_type": "markdown",
   "metadata": {},
   "source": [
    "## Creating n-D Numpy array\n",
    "Similar to creating a 1d numpy array, we can pass **nested lists** i.e. list of lists as a parameter to the function np.array(). An n-dimensional array will be created corresponding to the passed parameter. We also see that the **type** of the n-dimensional array is same as that of previously created."
   ]
  },
  {
   "cell_type": "code",
   "execution_count": 49,
   "metadata": {},
   "outputs": [
    {
     "name": "stdout",
     "output_type": "stream",
     "text": [
      "[[21 22]\n",
      " [43 44]\n",
      " [56 57]]\n",
      "The variable b is of type: <class 'numpy.ndarray'>\n"
     ]
    }
   ],
   "source": [
    "nested_list = [[21, 22], [43, 44], [56, 57]]\n",
    "b = np.array(nested_list)\n",
    "print(b)\n",
    "print(\"The variable b is of type:\", type(b))"
   ]
  },
  {
   "cell_type": "markdown",
   "metadata": {},
   "source": [
    "## Shape of n-D Numpy array\n",
    "The shape of the n-dimensional numpy array can be found using the shape method of the array similar to that of the 1-d array. The shape method outputs a tuple that represents the shape of the array which can be verified using our friendly neighbourhood **type** function. There is a catch, however, when using the python's built-in **len** function. Give it a try! "
   ]
  },
  {
   "cell_type": "code",
   "execution_count": 54,
   "metadata": {},
   "outputs": [
    {
     "name": "stdout",
     "output_type": "stream",
     "text": [
      "(3, 2)\n",
      "The type of the output using the SHAPE method is : <class 'tuple'>\n",
      "3\n"
     ]
    }
   ],
   "source": [
    "print(b.shape)\n",
    "print(\"The type of the output using the SHAPE method is :\", type(b.shape))\n",
    "print(len(b))"
   ]
  },
  {
   "cell_type": "markdown",
   "metadata": {},
   "source": [
    "## Selecting Elements of n-D Numpy array\n",
    "Selecting the element of an n-dimensional array is somewhat different from that in 1-dimensional array because simply using b[ ] will give a different output. Let's try that first. We first print the array itself for easier reference."
   ]
  },
  {
   "cell_type": "code",
   "execution_count": 58,
   "metadata": {},
   "outputs": [
    {
     "name": "stdout",
     "output_type": "stream",
     "text": [
      "[[21 22]\n",
      " [43 44]\n",
      " [56 57]]\n",
      "\n",
      "The [0]th index gives [21 22]\n",
      "The [1]th index gives [43 44]\n",
      "The [2]th index gives [56 57]\n"
     ]
    }
   ],
   "source": [
    "print(b)\n",
    "print()\n",
    "print(\"The [0]th index gives\", b[0])\n",
    "print(\"The [1]th index gives\", b[1])\n",
    "print(\"The [2]th index gives\", b[2])"
   ]
  },
  {
   "cell_type": "markdown",
   "metadata": {},
   "source": [
    "We can see that using only one square bracket outputs the **row** of the array corresponding to the index provided. So, let's try using **two** square brackets, because, why not??"
   ]
  },
  {
   "cell_type": "code",
   "execution_count": 61,
   "metadata": {},
   "outputs": [
    {
     "name": "stdout",
     "output_type": "stream",
     "text": [
      "[[21 22]\n",
      " [43 44]\n",
      " [56 57]]\n",
      "\n",
      "22\n",
      "Eureka!! It works!!!. Let's try some more.\n",
      "\n",
      "The [0][0] th index gives: 21\n",
      "The [0][1] th index gives: 22\n",
      "The [1][0] th index gives: 43\n",
      "The [1][1] th index gives: 44\n",
      "The [2][0] th index gives: 56\n",
      "The [2][1] th index gives: 57\n"
     ]
    }
   ],
   "source": [
    "print(b)\n",
    "print()\n",
    "print(b[0][1])\n",
    "print(\"Eureka!! It works!!!. Let's try some more.\")\n",
    "print()\n",
    "for i in range(b.shape[0]):\n",
    "    for j in range(b.shape[1]):\n",
    "        print(\"The [{}][{}] th index gives: {}\".format(i, j, b[i][j]))"
   ]
  },
  {
   "cell_type": "markdown",
   "metadata": {},
   "source": []
  },
  {
   "cell_type": "code",
   "execution_count": null,
   "metadata": {
    "collapsed": true
   },
   "outputs": [],
   "source": []
  }
 ],
 "metadata": {
  "kernelspec": {
   "display_name": "Python 3",
   "language": "python",
   "name": "python3"
  },
  "language_info": {
   "codemirror_mode": {
    "name": "ipython",
    "version": 3
   },
   "file_extension": ".py",
   "mimetype": "text/x-python",
   "name": "python",
   "nbconvert_exporter": "python",
   "pygments_lexer": "ipython3",
   "version": "3.6.2"
  }
 },
 "nbformat": 4,
 "nbformat_minor": 2
}
