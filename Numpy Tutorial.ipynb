{
 "cells": [
  {
   "cell_type": "markdown",
   "metadata": {},
   "source": [
    "# Numpy Tutorial\n",
    "Numpy is the core library for scientific computing in Python. It provides a high-performance multidimensional array object, and tools for working with these arrays.  \n",
    "**Ref** *: http://cs231n.github.io/python-numpy-tutorial/#numpy* \n",
    "\n",
    "This is a tutorial for the basics of numpy. It will help you kick start your calculations in numpy and be able to execute them with ease. However, this is not an exhaustive course and learners are required to study further and experiment with Numpy **themselves** to get a deeper understanding of the module."
   ]
  },
  {
   "cell_type": "code",
   "execution_count": 6,
   "metadata": {},
   "outputs": [
    {
     "name": "stdout",
     "output_type": "stream",
     "text": [
      "Using python path  /home/lt-134/.conda/envs/ds1/bin/python\n"
     ]
    }
   ],
   "source": [
    "import numpy as np\n",
    "import sys\n",
    "from IPython.display import display\n",
    "\n",
    "print(\"Using python path \", sys.executable)"
   ]
  },
  {
   "cell_type": "markdown",
   "metadata": {},
   "source": [
    "## Creating a 1-D array Numpy Array\n",
    "We can simply pass a list parameter to the np.array() function and it will return a corresponding numpy array."
   ]
  },
  {
   "cell_type": "code",
   "execution_count": 16,
   "metadata": {},
   "outputs": [
    {
     "name": "stdout",
     "output_type": "stream",
     "text": [
      "[15 20 45 37 -1]\n",
      "The variable a is of type:  <class 'numpy.ndarray'>\n"
     ]
    }
   ],
   "source": [
    "a = np.array([15, 20, 45, 37, -1])\n",
    "print(a)\n",
    "print(\"The variable a is of type: \", type(a))"
   ]
  },
  {
   "cell_type": "markdown",
   "metadata": {},
   "source": [
    "## Shape of 1-D Numpy Array\n",
    "The shape of a 1-D numpy array can be obtained by using the python's **len** funtion. However"
   ]
  },
  {
   "cell_type": "code",
   "execution_count": 19,
   "metadata": {},
   "outputs": [
    {
     "name": "stdout",
     "output_type": "stream",
     "text": [
      "5\n",
      "(5,)\n"
     ]
    }
   ],
   "source": [
    "print(len(a))\n",
    "print(a.shape)"
   ]
  },
  {
   "cell_type": "markdown",
   "metadata": {},
   "source": [
    "## Selection\n",
    "The index of numpy array starts with 0 up to the length of the array-1. We can select an element of a numpy array using the variable name with square **[]** brackets.\n"
   ]
  },
  {
   "cell_type": "code",
   "execution_count": 22,
   "metadata": {},
   "outputs": [
    {
     "name": "stdout",
     "output_type": "stream",
     "text": [
      "The 1st element of the array is:  15\n",
      "The 2nd element of the array is:  20\n"
     ]
    }
   ],
   "source": [
    "print(\"The 1st element of the array is: \", a[0])\n",
    "print(\"The 2nd element of the array is: \", a[1])"
   ]
  },
  {
   "cell_type": "code",
   "execution_count": null,
   "metadata": {
    "collapsed": true
   },
   "outputs": [],
   "source": []
  }
 ],
 "metadata": {
  "kernelspec": {
   "display_name": "Python 3",
   "language": "python",
   "name": "python3"
  },
  "language_info": {
   "codemirror_mode": {
    "name": "ipython",
    "version": 3
   },
   "file_extension": ".py",
   "mimetype": "text/x-python",
   "name": "python",
   "nbconvert_exporter": "python",
   "pygments_lexer": "ipython3",
   "version": "3.6.2"
  }
 },
 "nbformat": 4,
 "nbformat_minor": 2
}
