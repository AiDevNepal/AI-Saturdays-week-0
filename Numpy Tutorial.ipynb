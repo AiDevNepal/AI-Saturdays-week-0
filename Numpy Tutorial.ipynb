{
 "cells": [
  {
   "cell_type": "markdown",
   "metadata": {},
   "source": [
    "# Numpy Tutorial\n",
    "Numpy is the core library for scientific computing in Python. It provides a high-performance multidimensional array object, and tools for working with these arrays.  \n",
    "\n",
    "This is a tutorial for the basics of numpy. Numpy is basically a very powerful and fast module for processing computations involving very large and multidimensional arrays. It will help you kick start your calculations in numpy and be able to execute them with ease. However, this is not an exhaustive course and learners are required to study further and experiment with Numpy **themselves** to get a deeper understanding of the module.\n",
    "\n",
    "To install Numpy module using pip in Ubuntu, we can use this command on the terminal:<br/>\n",
    "*sudo pip install numpy*"
   ]
  },
  {
   "cell_type": "code",
   "execution_count": 25,
   "metadata": {},
   "outputs": [
    {
     "name": "stdout",
     "output_type": "stream",
     "text": [
      "Using python path  /home/lt-134/.conda/envs/ds1/bin/python\n"
     ]
    }
   ],
   "source": [
    "import numpy as np\n",
    "import sys\n",
    "from IPython.display import display\n",
    "\n",
    "print(\"Using python path \", sys.executable)"
   ]
  },
  {
   "cell_type": "markdown",
   "metadata": {},
   "source": [
    "## Creating a 1-D array Numpy Array\n",
    "We can simply pass a list parameter to the np.array() function and it will return a corresponding numpy array. Additionally, we can use Python's built-in **type** funtion to verify this."
   ]
  },
  {
   "cell_type": "code",
   "execution_count": 26,
   "metadata": {
    "scrolled": true
   },
   "outputs": [
    {
     "name": "stdout",
     "output_type": "stream",
     "text": [
      "[15 20 45 37 -1]\n",
      "The variable a is of type:  <class 'numpy.ndarray'>\n"
     ]
    }
   ],
   "source": [
    "a = np.array([15, 20, 45, 37, -1])\n",
    "print(a)\n",
    "print(\"The variable a is of type: \", type(a))"
   ]
  },
  {
   "cell_type": "markdown",
   "metadata": {},
   "source": [
    "## Shape of 1-D Numpy Array\n",
    "The shape of a 1-D numpy array can be obtained by using the python's **len** funtion. However, we can also use shape funtion; this returns a somewhat different output. We will get back to that later."
   ]
  },
  {
   "cell_type": "code",
   "execution_count": 24,
   "metadata": {},
   "outputs": [
    {
     "name": "stdout",
     "output_type": "stream",
     "text": [
      "5\n",
      "(5,)\n"
     ]
    }
   ],
   "source": [
    "print(len(a))\n",
    "print(a.shape)"
   ]
  },
  {
   "cell_type": "markdown",
   "metadata": {},
   "source": [
    "## Selecting Elements of 1-D Numpy Array\n",
    "The index of numpy array starts with 0 up to the length of the array-1. We can select an element of a numpy array using the variable name with **square [ ]** brackets."
   ]
  },
  {
   "cell_type": "code",
   "execution_count": 22,
   "metadata": {},
   "outputs": [
    {
     "name": "stdout",
     "output_type": "stream",
     "text": [
      "The 1st element of the array is:  15\n",
      "The 2nd element of the array is:  20\n"
     ]
    }
   ],
   "source": [
    "print(\"The 1st element of the array is: \", a[0])\n",
    "print(\"The 2nd element of the array is: \", a[1])"
   ]
  },
  {
   "cell_type": "markdown",
   "metadata": {},
   "source": [
    "## Creating n-D Numpy array\n",
    "Similar to creating a 1d numpy array, we can pass **nested lists** i.e. list of lists as a parameter to the function np.array(). An n-dimensional array will be created corresponding to the passed parameter. We also see that the **type** of the n-dimensional array is same as that of previously created."
   ]
  },
  {
   "cell_type": "code",
   "execution_count": 49,
   "metadata": {},
   "outputs": [
    {
     "name": "stdout",
     "output_type": "stream",
     "text": [
      "[[21 22]\n",
      " [43 44]\n",
      " [56 57]]\n",
      "The variable b is of type: <class 'numpy.ndarray'>\n"
     ]
    }
   ],
   "source": [
    "nested_list = [[21, 22], [43, 44], [56, 57]]\n",
    "b = np.array(nested_list)\n",
    "print(b)\n",
    "print(\"The variable b is of type:\", type(b))"
   ]
  },
  {
   "cell_type": "markdown",
   "metadata": {},
   "source": [
    "## Shape of n-D Numpy array\n",
    "The shape of the n-dimensional numpy array can be found using the shape method of the array similar to that of the 1-d array. The shape method outputs a tuple that represents the shape of the array which can be verified using our friendly neighbourhood **type** function. There is a catch, however, when using the python's built-in **len** function. Give it a try! "
   ]
  },
  {
   "cell_type": "code",
   "execution_count": 54,
   "metadata": {},
   "outputs": [
    {
     "name": "stdout",
     "output_type": "stream",
     "text": [
      "(3, 2)\n",
      "The type of the output using the SHAPE method is : <class 'tuple'>\n",
      "3\n"
     ]
    }
   ],
   "source": [
    "print(b.shape)\n",
    "print(\"The type of the output using the SHAPE method is :\", type(b.shape))\n",
    "print(len(b))"
   ]
  },
  {
   "cell_type": "markdown",
   "metadata": {},
   "source": [
    "## Selecting Elements of n-D Numpy array\n",
    "Selecting the element of an n-dimensional array is somewhat different from that in 1-dimensional array because simply using b[ ] will give a different output. Let's try that first. We first print the array itself for easier reference."
   ]
  },
  {
   "cell_type": "code",
   "execution_count": 42,
   "metadata": {},
   "outputs": [
    {
     "name": "stdout",
     "output_type": "stream",
     "text": [
      "[[21 22]\n",
      " [43 44]\n",
      " [56 57]]\n",
      "\n",
      "The 0th index gives [21 22]\n",
      "The 1th index gives [43 44]\n",
      "The 2th index gives [56 57]\n"
     ]
    }
   ],
   "source": [
    "print(b)\n",
    "print()\n",
    "print(\"The 0th index gives\", b[0])\n",
    "print(\"The 1th index gives\", b[1])\n",
    "print(\"The 2th index gives\", b[2])"
   ]
  },
  {
   "cell_type": "markdown",
   "metadata": {},
   "source": [
    "We can see that using only one square bracket outputs the **row** of the array corresponding to the index provided. So, let's try using **two** square brackets, because, why not??"
   ]
  },
  {
   "cell_type": "code",
   "execution_count": 41,
   "metadata": {},
   "outputs": [
    {
     "name": "stdout",
     "output_type": "stream",
     "text": [
      "[[21 22]\n",
      " [43 44]\n",
      " [56 57]]\n",
      "\n",
      "22\n",
      "Eureka!! It works!!!. Let's try some more.\n",
      "The 0\n"
     ]
    }
   ],
   "source": [
    "print(b)\n",
    "print()\n",
    "print(b[0][1])\n",
    "print(\"Eureka!! It works!!!. Let's try some more.\")\n",
    "for i in range(b.shape[0]):\n",
    "    for j in range(b.shape[1]):\n",
    "        print(\"The {}{} th index gives: {}\", b[0][1])"
   ]
  },
  {
   "cell_type": "code",
   "execution_count": null,
   "metadata": {
    "collapsed": true
   },
   "outputs": [],
   "source": []
  }
 ],
 "metadata": {
  "kernelspec": {
   "display_name": "Python 3",
   "language": "python",
   "name": "python3"
  },
  "language_info": {
   "codemirror_mode": {
    "name": "ipython",
    "version": 3
   },
   "file_extension": ".py",
   "mimetype": "text/x-python",
   "name": "python",
   "nbconvert_exporter": "python",
   "pygments_lexer": "ipython3",
   "version": "3.6.2"
  }
 },
 "nbformat": 4,
 "nbformat_minor": 2
}
